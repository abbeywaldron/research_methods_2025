{
 "cells": [
  {
   "cell_type": "code",
   "execution_count": 7,
   "id": "ffefa368",
   "metadata": {},
   "outputs": [],
   "source": [
    "import numpy as np"
   ]
  },
  {
   "cell_type": "code",
   "execution_count": 5,
   "id": "7edfba0c",
   "metadata": {},
   "outputs": [
    {
     "data": {
      "text/plain": [
       "233168"
      ]
     },
     "execution_count": 5,
     "metadata": {},
     "output_type": "execute_result"
    }
   ],
   "source": [
    "# Problem 1 - find sum of all multiples of 3 or 5 below 1000\n",
    "\n",
    "def is_multiple(num, multiple_of) :\n",
    "    return (num % multiple_of == 0)\n",
    "\n",
    "max_num = 1000\n",
    "sum_multiples = 0\n",
    "\n",
    "for num in range(1, max_num) :\n",
    "    if is_multiple(num, 3) or is_multiple(num, 5) :\n",
    "        sum_multiples += num\n",
    "\n",
    "sum_multiples"
   ]
  },
  {
   "cell_type": "code",
   "execution_count": 9,
   "id": "0b7d53ae",
   "metadata": {},
   "outputs": [
    {
     "ename": "KeyboardInterrupt",
     "evalue": "",
     "output_type": "error",
     "traceback": [
      "\u001b[31m---------------------------------------------------------------------------\u001b[39m",
      "\u001b[31mKeyboardInterrupt\u001b[39m                         Traceback (most recent call last)",
      "\u001b[36mCell\u001b[39m\u001b[36m \u001b[39m\u001b[32mIn[9]\u001b[39m\u001b[32m, line 12\u001b[39m\n\u001b[32m     10\u001b[39m         sum_even_fib += f_n\n\u001b[32m     11\u001b[39m     f_n_minus1 = f_n\n\u001b[32m---> \u001b[39m\u001b[32m12\u001b[39m     f_n_minus2 = f_n_minus1\n\u001b[32m     13\u001b[39m sum_even_fib\n",
      "\u001b[31mKeyboardInterrupt\u001b[39m: "
     ]
    }
   ],
   "source": [
    "# Problem 2 - find the sum of all even Fibonacci numbers below 4 million\n",
    "\n",
    "max_num = 4000000\n",
    "f_n_minus2 = 1\n",
    "f_n_minus1 = 2\n",
    "sum_even_fib = 2\n",
    "for num in range(3, max_num) :        \n",
    "    f_n = f_n_minus2 + f_n_minus1\n",
    "    if (f_n % 2 == 0) :\n",
    "        sum_even_fib += f_n\n",
    "    f_n_minus1 = f_n\n",
    "    f_n_minus2 = f_n_minus1\n",
    "sum_even_fib"
   ]
  },
  {
   "cell_type": "code",
   "execution_count": null,
   "id": "e8aeac0a",
   "metadata": {},
   "outputs": [],
   "source": []
  }
 ],
 "metadata": {
  "kernelspec": {
   "display_name": ".venv",
   "language": "python",
   "name": "python3"
  },
  "language_info": {
   "codemirror_mode": {
    "name": "ipython",
    "version": 3
   },
   "file_extension": ".py",
   "mimetype": "text/x-python",
   "name": "python",
   "nbconvert_exporter": "python",
   "pygments_lexer": "ipython3",
   "version": "3.13.5"
  }
 },
 "nbformat": 4,
 "nbformat_minor": 5
}
