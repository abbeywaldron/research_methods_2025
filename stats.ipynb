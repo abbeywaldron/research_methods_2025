{
 "cells": [
  {
   "cell_type": "markdown",
   "metadata": {},
   "source": [
    "# Applied Statistics\n",
    "\n",
    "Today we will learn how to use various distributions (Poisson, Gaussian), different types of averages (mean, median, mode), consider distribution widths and uncertainties, and perform a goodness of fit test."
   ]
  },
  {
   "cell_type": "code",
   "execution_count": 1,
   "metadata": {},
   "outputs": [],
   "source": [
    "import numpy as np\n",
    "import matplotlib.pyplot as plt"
   ]
  },
  {
   "cell_type": "markdown",
   "metadata": {},
   "source": [
    "## 1.  Distributions\n",
    "To introduce this topic we will consider a practical example.  You are in London and want to get from Coram's Fields to King's Cross station.  You have two options: walk or take the Piccadilly line from Russel Square to King's Cross.  If you walk, you can expect it to take 14 minutes with an uncertainty of +/- 1 minute (standard deviation).  Model this as a Gaussian distribution and make a plot.  Tip: look at https://numpy.org/doc/2.3/reference/random/generated/numpy.random.normal.html with a large size to get a smooth distribution and make sure you add enough bins to the histogram"
   ]
  },
  {
   "cell_type": "code",
   "execution_count": null,
   "metadata": {},
   "outputs": [],
   "source": []
  },
  {
   "cell_type": "markdown",
   "metadata": {},
   "source": [
    "You should see a smooth Gaussian distribution centered around 14.  Now, we want to model the tube option.  To do this we need to consider two parts: the time it will take to walk to the tube station (6 minutes, +/- 0.5 mins) and the time it will take for the tube.  The second part is a little more complicated as it has a larger high time tail to the distribution.  First make a plot of the time to walk to the tube station:"
   ]
  },
  {
   "cell_type": "code",
   "execution_count": null,
   "metadata": {},
   "outputs": [],
   "source": []
  },
  {
   "cell_type": "markdown",
   "metadata": {},
   "source": [
    "Now you want to model the time to take the tube.  This can be modelled as a Gaussian distribution with peak of 6 mins and uncertainty 3 mins.  However, there is a lower cutoff to this time as the fastest it can be done is 5 mins.  Tip: when you plot a histogram it will return the values and bin edges as arrays you can then use.  Tip: you can use the 'weight' argument to plot a histogram where you have the bin content numbers.  Make a plot of this distribution:"
   ]
  },
  {
   "cell_type": "code",
   "execution_count": null,
   "metadata": {},
   "outputs": [],
   "source": []
  },
  {
   "cell_type": "code",
   "execution_count": null,
   "metadata": {},
   "outputs": [],
   "source": []
  },
  {
   "cell_type": "markdown",
   "metadata": {},
   "source": [
    "Now you probably have an array of bin values showing this distribution, but not the full distribution itself.  To get the distribution of tube times we can use https://numpy.org/doc/stable/reference/random/generated/numpy.random.choice.html (remember to scale your histogram values to make them probabilities)"
   ]
  },
  {
   "cell_type": "code",
   "execution_count": null,
   "metadata": {},
   "outputs": [],
   "source": []
  },
  {
   "cell_type": "markdown",
   "metadata": {},
   "source": [
    "Now you have your two distributions for the time it takes to walk to the tube station and the time it takes to take the tube.  Sum the two distributions to get a distribution for the total time it takes to take the tube from Coram's Fields to King's Cross.  Make a plot of this distribution:"
   ]
  },
  {
   "cell_type": "code",
   "execution_count": null,
   "metadata": {},
   "outputs": [],
   "source": []
  },
  {
   "cell_type": "markdown",
   "metadata": {},
   "source": [
    "Make a plot with both distributions (walking from Coram's Fields to King's Cross and walking to Russell Square and then taking the tube).  Tip: to show multiple histograms in one plot use `histtype='step'`:"
   ]
  },
  {
   "cell_type": "code",
   "execution_count": null,
   "metadata": {},
   "outputs": [],
   "source": []
  },
  {
   "cell_type": "markdown",
   "metadata": {},
   "source": [
    "## 2. Averages: Means, Medians and Modes\n",
    "\n",
    "Now let's get the mean of each distribution (hint: use https://numpy.org/doc/stable/reference/generated/numpy.mean.html)"
   ]
  },
  {
   "cell_type": "code",
   "execution_count": null,
   "metadata": {},
   "outputs": [],
   "source": []
  },
  {
   "cell_type": "markdown",
   "metadata": {},
   "source": [
    "Which is longer?  Now do the same thing for the median of the two distributions (use https://numpy.org/doc/stable/reference/generated/numpy.median.html)"
   ]
  },
  {
   "cell_type": "code",
   "execution_count": null,
   "metadata": {},
   "outputs": [],
   "source": []
  },
  {
   "cell_type": "markdown",
   "metadata": {},
   "source": [
    "Why is the mean the same as the median for the walking, but not for taking the tube?"
   ]
  },
  {
   "cell_type": "markdown",
   "metadata": {},
   "source": [
    "### *Optional additional exercise: Modes\n",
    "\n",
    "Now you can try to get the mode of each distribution if you have time.  One option (fine for our purposes) is to just find the largest bin in the histogram and say the center of that bin is the mode.  The second (beyond the scope of what we have done in this course) would be to fit a Gaussian to the peak of the distribution and call the mean of that fitted Gaussian the mode."
   ]
  },
  {
   "cell_type": "code",
   "execution_count": null,
   "metadata": {},
   "outputs": [],
   "source": []
  },
  {
   "cell_type": "markdown",
   "metadata": {},
   "source": [
    "## 3. How to Interpret these distributions"
   ]
  },
  {
   "cell_type": "markdown",
   "metadata": {},
   "source": [
    "Now we can use this distributions directly to answer some questions.  The first question is, which method (walking or taking the tube) is more likely to get you to King's Cross in less than fifteen minutes?  To do this we need to integrate (just sum!) the two distributions below 14 mins and compare the two numbers.  Tip: make sure your two distributions have the same number of entries (if using them directly) or are noramlised to the same number (if you are taking them from histograms)"
   ]
  },
  {
   "cell_type": "code",
   "execution_count": null,
   "metadata": {},
   "outputs": [],
   "source": []
  },
  {
   "cell_type": "code",
   "execution_count": null,
   "metadata": {},
   "outputs": [],
   "source": []
  },
  {
   "cell_type": "markdown",
   "metadata": {},
   "source": [
    "Now we will consider a different question.  Your train is leaving from King's Cross in exactly 16 minutes.  Should you walk or take the tube?  To answer this, repeat the same procedure as before but for 16 minutes."
   ]
  },
  {
   "cell_type": "code",
   "execution_count": null,
   "metadata": {},
   "outputs": [],
   "source": []
  },
  {
   "cell_type": "code",
   "execution_count": null,
   "metadata": {},
   "outputs": [],
   "source": []
  },
  {
   "cell_type": "markdown",
   "metadata": {},
   "source": [
    "## 4. Comparing to data and a goodness of fit test"
   ]
  },
  {
   "cell_type": "markdown",
   "metadata": {},
   "source": [
    "Now you want to see if your model (Gaussian) of how long it takes you to walk from Coram's Fields to King's Cross is a good representation of how long it takes you.  So you walk the route 20 times, timing yourself to the nearest minute.  These are the results you get:"
   ]
  },
  {
   "cell_type": "code",
   "execution_count": null,
   "metadata": {},
   "outputs": [],
   "source": [
    "time_bins = np.array([12.0,13.0,14.0,15.0,16.0,17.0])\n",
    "counts = np.array([1.0,6.0,8.0,3.0,2.0,1.0])"
   ]
  },
  {
   "cell_type": "markdown",
   "metadata": {},
   "source": [
    "Now we will want to compare our data to our model.  To compare to expected values, we need to include the Poisson uncertainty on our data.  For a Poisson distribution with mean $\\lambda$ the standard deviation is $\\sqrt\\lambda$.  Taking the counts to be the $\\lambda$, calculate the standard deviation for each count (tip: you can do this in one line, if you are writing more code you are over-complicating it!)"
   ]
  },
  {
   "cell_type": "code",
   "execution_count": null,
   "metadata": {},
   "outputs": [],
   "source": []
  },
  {
   "cell_type": "markdown",
   "metadata": {},
   "source": [
    "Now plot the counts and their error bars (+/- 1 standard deviation) using https://matplotlib.org/stable/api/_as_gen/matplotlib.pyplot.errorbar.html"
   ]
  },
  {
   "cell_type": "code",
   "execution_count": null,
   "metadata": {},
   "outputs": [],
   "source": []
  },
  {
   "cell_type": "markdown",
   "metadata": {},
   "source": [
    "Now we want to plot our model distribution (the Gaussian walking model) on the same plot.  To do this, we will need to match the bins (width 1 min, bin edges on half-minutes) and scale the distribution to match 20 measurements.  Also get the counts from your scaled model histogram, we will need them for the next part."
   ]
  },
  {
   "cell_type": "code",
   "execution_count": null,
   "metadata": {},
   "outputs": [],
   "source": []
  },
  {
   "cell_type": "markdown",
   "metadata": {},
   "source": [
    "Print your data (the `counts`) and your model counts in each bin.  Make sure that the numbers are roughly similar, if they are very far apart check you have scaled your model correctly.  You should also be able to see this from the previous plot.  To make your life easier, make the model counts the same shape as the data counts (just throw away empty bins at the low and high ends)"
   ]
  },
  {
   "cell_type": "code",
   "execution_count": null,
   "metadata": {},
   "outputs": [],
   "source": []
  },
  {
   "cell_type": "markdown",
   "metadata": {},
   "source": [
    "You should see an array containing six values for each, if not go back and fix this!\n",
    "\n",
    "### Goodness of fit test"
   ]
  },
  {
   "cell_type": "markdown",
   "metadata": {},
   "source": [
    "Finally, we will perform a goodness of fit test between our model and our data.  The text statistic we will use is called $\\chi^{2}$ and is defined as $\\chi^{2} = \\Sigma_{i}\\frac{(\\textrm{Data}_{i}-\\textrm{Model}_{i})^{2}}{\\textrm{Model}_{i}}$\n",
    "\n",
    "Using your data and model predictions, calculate the $\\chi^{2}$ for the walking model"
   ]
  },
  {
   "cell_type": "code",
   "execution_count": null,
   "metadata": {},
   "outputs": [],
   "source": []
  },
  {
   "cell_type": "markdown",
   "metadata": {},
   "source": [
    "For statistical only uncertainties given by a Poisson distribution like we have here, we expect to get a $\\chi^{2}/\\textrm{NDOF}$ (where NDOF is number of degrees of freedom, in our case the number of data bins, so 6) of about one.  Is this the case here?"
   ]
  },
  {
   "cell_type": "code",
   "execution_count": null,
   "metadata": {},
   "outputs": [],
   "source": []
  }
 ],
 "metadata": {
  "kernelspec": {
   "display_name": ".venv",
   "language": "python",
   "name": "python3"
  },
  "language_info": {
   "codemirror_mode": {
    "name": "ipython",
    "version": 3
   },
   "file_extension": ".py",
   "mimetype": "text/x-python",
   "name": "python",
   "nbconvert_exporter": "python",
   "pygments_lexer": "ipython3",
   "version": "3.13.5"
  }
 },
 "nbformat": 4,
 "nbformat_minor": 4
}
