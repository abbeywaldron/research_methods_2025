{
 "cells": [
  {
   "cell_type": "markdown",
   "id": "a2530dee",
   "metadata": {},
   "source": [
    "# Visualisation 1"
   ]
  },
  {
   "cell_type": "code",
   "execution_count": 1,
   "id": "31136a4f",
   "metadata": {},
   "outputs": [],
   "source": [
    "import numpy as np\n",
    "import matplotlib.pyplot as plt"
   ]
  },
  {
   "cell_type": "markdown",
   "id": "e167fd74",
   "metadata": {},
   "source": [
    "### Exercise 1 - Bar Charts\n",
    "\n",
    "Make a bar chart of the following data.  Label the four points A, B, C, D.  Look at the documentation here to see how to do it: https://matplotlib.org/stable/api/_as_gen/matplotlib.pyplot.bar.html  "
   ]
  },
  {
   "cell_type": "code",
   "execution_count": null,
   "id": "2915073c",
   "metadata": {},
   "outputs": [],
   "source": [
    "data_bar = np.array([45,87,34,28])\n",
    "labels = ..."
   ]
  },
  {
   "cell_type": "code",
   "execution_count": null,
   "id": "7f594718",
   "metadata": {},
   "outputs": [],
   "source": []
  },
  {
   "cell_type": "markdown",
   "id": "6bfa66a8",
   "metadata": {},
   "source": [
    "Now add labels to your axes, the y-axis should read \"paperclips\" and the x-axis \"factory ID\".  See the following for how to do this: https://matplotlib.org/stable/api/_as_gen/matplotlib.pyplot.ylabel.html , https://matplotlib.org/stable/api/_as_gen/matplotlib.pyplot.xlabel.html"
   ]
  },
  {
   "cell_type": "code",
   "execution_count": null,
   "id": "e245dbe8",
   "metadata": {},
   "outputs": [],
   "source": []
  },
  {
   "cell_type": "markdown",
   "id": "83f21076",
   "metadata": {},
   "source": [
    "### Exercise 2 - Pie Charts\n",
    "\n",
    "Now make a labelled pie chart of the following data (to see how, look at: https://matplotlib.org/stable/gallery/pie_and_polar_charts/pie_features.html)"
   ]
  },
  {
   "cell_type": "code",
   "execution_count": null,
   "id": "7758e11f",
   "metadata": {},
   "outputs": [],
   "source": [
    "data_pie = np.array([0.3,0.1,0.6])\n",
    "labels_pie = [\"apple\",\"blueberry\",\"custard\"]"
   ]
  },
  {
   "cell_type": "code",
   "execution_count": null,
   "id": "d01a29a0",
   "metadata": {},
   "outputs": [],
   "source": []
  },
  {
   "cell_type": "markdown",
   "id": "1280284d",
   "metadata": {},
   "source": [
    "Now make a pie chart with seven equally sized segments representing the colours of the rainbow, and label them.  Tip:  look at the `colors` argument here: https://matplotlib.org/stable/api/_as_gen/matplotlib.pyplot.pie.html\n",
    "\n",
    "For a list of named colours see here: https://matplotlib.org/stable/gallery/color/named_colors.html"
   ]
  },
  {
   "cell_type": "code",
   "execution_count": null,
   "id": "6f402c92",
   "metadata": {},
   "outputs": [],
   "source": []
  },
  {
   "cell_type": "markdown",
   "id": "2d99c8c0",
   "metadata": {},
   "source": [
    "What might be issues with such a plot?  Now you are told this plot has to be printed in back and white.  Make a new colour and/or hatching scheme (see here for options: https://matplotlib.org/stable/gallery/shapes_and_collections/hatch_style_reference.html) so that it is clear when printed in black and white."
   ]
  },
  {
   "cell_type": "code",
   "execution_count": null,
   "id": "5c200a5b",
   "metadata": {},
   "outputs": [],
   "source": []
  },
  {
   "cell_type": "code",
   "execution_count": null,
   "id": "8b49fc12",
   "metadata": {},
   "outputs": [],
   "source": []
  },
  {
   "cell_type": "markdown",
   "id": "f24d789a",
   "metadata": {},
   "source": [
    "### Exercise 3 - Line Charts\n",
    "\n",
    "Plot the following `data_x` and `data_y1` values.  See the documentation here: https://matplotlib.org/stable/api/_as_gen/matplotlib.pyplot.plot.html\n",
    "\n",
    "`x` is time in days and `y` is change in stock price in USD.  Label your axes appropriately. "
   ]
  },
  {
   "cell_type": "code",
   "execution_count": null,
   "id": "f6628ad9",
   "metadata": {},
   "outputs": [],
   "source": [
    "data_x = np.arange(10)\n",
    "data_y = data_x + 0.2*data_x**2"
   ]
  },
  {
   "cell_type": "code",
   "execution_count": null,
   "id": "ecc2e7ef",
   "metadata": {},
   "outputs": [],
   "source": []
  },
  {
   "cell_type": "markdown",
   "id": "19c02584",
   "metadata": {},
   "source": [
    "Now you are given a second set of y-values corresponding to the same x-values, `data_y2`.  Add these values on the same plot as your original data."
   ]
  },
  {
   "cell_type": "code",
   "execution_count": null,
   "id": "ff095f22",
   "metadata": {},
   "outputs": [],
   "source": []
  },
  {
   "cell_type": "markdown",
   "id": "93a77815",
   "metadata": {},
   "source": [
    "Now we have a problem - how do we know which is which?  We can solve this by adding a `label` when we call `plt.plot()` and then creating a `plt.legend()`.  Details can be found here: https://matplotlib.org/stable/api/_as_gen/matplotlib.pyplot.legend.html\n",
    "\n",
    "You can assume `data_y` corresponds to 'Company A' and `data_y2` to 'Company B'."
   ]
  },
  {
   "cell_type": "code",
   "execution_count": null,
   "id": "7497a008",
   "metadata": {},
   "outputs": [],
   "source": []
  },
  {
   "cell_type": "markdown",
   "id": "481dee11",
   "metadata": {},
   "source": [
    "By the way this also works with pie charts - go back and see what adding a legend does in the previous exercise!"
   ]
  }
 ],
 "metadata": {
  "kernelspec": {
   "display_name": "Python 3 (ipykernel)",
   "language": "python",
   "name": "python3"
  },
  "language_info": {
   "codemirror_mode": {
    "name": "ipython",
    "version": 3
   },
   "file_extension": ".py",
   "mimetype": "text/x-python",
   "name": "python",
   "nbconvert_exporter": "python",
   "pygments_lexer": "ipython3",
   "version": "3.9.16"
  }
 },
 "nbformat": 4,
 "nbformat_minor": 5
}
