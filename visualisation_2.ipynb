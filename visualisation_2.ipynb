{
 "cells": [
  {
   "cell_type": "markdown",
   "id": "0a70b1b8",
   "metadata": {},
   "source": [
    "# Visualisation 2\n",
    "\n",
    "Today we will learn about scatter plots, colour choice, axis ranges and saving plots."
   ]
  },
  {
   "cell_type": "code",
   "execution_count": 1,
   "id": "7d291671",
   "metadata": {},
   "outputs": [],
   "source": [
    "import numpy as np\n",
    "import matplotlib.pyplot as plt"
   ]
  },
  {
   "cell_type": "markdown",
   "id": "45d833e4",
   "metadata": {},
   "source": [
    "### Exercise 1: Reading in data\n",
    "\n",
    "The file `example.csv` contains two columns and ten rows and is comma separated.  The first column corresponds to `x` values and the second column to `y` values.  Use `numpy`'s `loadtxt` function to read in the data (https://numpy.org/doc/stable/reference/generated/numpy.loadtxt.html) and then print the data to make sure it looks like it did in the file.  If you are having trouble make sure you have set the `delimiter` correctly."
   ]
  },
  {
   "cell_type": "code",
   "execution_count": null,
   "id": "185a21d4",
   "metadata": {},
   "outputs": [],
   "source": []
  },
  {
   "cell_type": "markdown",
   "id": "8a38c0fc",
   "metadata": {},
   "source": [
    "Split the data into `x` and `y` arrays (1st and 2nd column respectively) and plot the data."
   ]
  },
  {
   "cell_type": "code",
   "execution_count": null,
   "id": "568dd236",
   "metadata": {},
   "outputs": [],
   "source": []
  },
  {
   "cell_type": "markdown",
   "id": "8e87b07a",
   "metadata": {},
   "source": [
    "### Exercise 2: Histograms\n",
    "\n",
    "You are given the following data:"
   ]
  },
  {
   "cell_type": "code",
   "execution_count": 2,
   "id": "bdf9343c",
   "metadata": {},
   "outputs": [],
   "source": [
    "data = np.random.normal(4.0,1.0,10000)"
   ]
  },
  {
   "cell_type": "markdown",
   "id": "4149d87b",
   "metadata": {},
   "source": [
    "Plot the data using a histogram (https://matplotlib.org/stable/api/_as_gen/matplotlib.pyplot.hist.html).  Change the binning so that the distribution looks reasonable and check that you have a sensible number of bins."
   ]
  },
  {
   "cell_type": "code",
   "execution_count": null,
   "id": "757d635c",
   "metadata": {},
   "outputs": [],
   "source": []
  },
  {
   "cell_type": "markdown",
   "id": "40fee428",
   "metadata": {},
   "source": [
    "### Exercise 3: A Scatter Plot"
   ]
  },
  {
   "cell_type": "markdown",
   "id": "07bffff6",
   "metadata": {},
   "source": [
    "First we will generate some data to plot:"
   ]
  },
  {
   "cell_type": "code",
   "execution_count": 3,
   "id": "8450be32",
   "metadata": {},
   "outputs": [],
   "source": [
    "n_samples = 1000\n",
    "means_1, sigmas_1 = [2.0,4.0], [[0.2,0.0],[0.0,0.1]]\n",
    "data_1 = np.random.multivariate_normal(means_1, sigmas_1, n_samples)"
   ]
  },
  {
   "cell_type": "markdown",
   "id": "8db86eec",
   "metadata": {},
   "source": [
    "Make a scatter plot of `data_1` and change the colour of the points to something you like.  Hint: look at https://matplotlib.org/stable/api/_as_gen/matplotlib.pyplot.scatter.html  "
   ]
  },
  {
   "cell_type": "code",
   "execution_count": null,
   "id": "ef7f74b0",
   "metadata": {},
   "outputs": [],
   "source": []
  },
  {
   "cell_type": "markdown",
   "id": "e79c070e",
   "metadata": {},
   "source": [
    "Now you are told that the x data represent lengths in metres and the y data represent times in seconds.  Update your axis labels to reflect this."
   ]
  },
  {
   "cell_type": "code",
   "execution_count": null,
   "id": "db28e617",
   "metadata": {},
   "outputs": [],
   "source": []
  },
  {
   "cell_type": "markdown",
   "id": "7b2a45de",
   "metadata": {},
   "source": [
    "Now you are additionally told that there is a third dimension, magnitude, given by the following:"
   ]
  },
  {
   "cell_type": "code",
   "execution_count": null,
   "id": "6e29d35e",
   "metadata": {},
   "outputs": [],
   "source": [
    "mags_1 = np.random.normal(5.0,1.0,n_samples)"
   ]
  },
  {
   "cell_type": "markdown",
   "id": "8dcb37a7",
   "metadata": {},
   "source": [
    "Use the size of the markers to display this magnitude information on your scatter plot (hint: look at the argument 's'), make sure the differences are actually visible, you may need to rescale the magnitudes!"
   ]
  },
  {
   "cell_type": "code",
   "execution_count": null,
   "id": "15bbec96",
   "metadata": {},
   "outputs": [],
   "source": []
  },
  {
   "cell_type": "markdown",
   "id": "4d1ab635",
   "metadata": {},
   "source": [
    "Now you possibly have the problem that some of your markers are overlapping.  What can you do about this?  A solution involves the parameter 'alpha' (the opacity).  Come up with a solution and plot it"
   ]
  },
  {
   "cell_type": "code",
   "execution_count": null,
   "id": "45b4a0f7",
   "metadata": {},
   "outputs": [],
   "source": []
  },
  {
   "cell_type": "markdown",
   "id": "1aeccd6c",
   "metadata": {},
   "source": [
    "Hopefully this plot is starting to look good, but there is big issue.  What is the shape of the distribution?  Is this easy to see from your plot?  In fact, the distribution is wider in length than in time, but this is difficult to see.  Fix your axis limits in both dimensions to go between 0 and 5.  Tip: https://matplotlib.org/stable/api/_as_gen/matplotlib.pyplot.xlim.html and https://matplotlib.org/stable/api/_as_gen/matplotlib.pyplot.ylim.html"
   ]
  },
  {
   "cell_type": "code",
   "execution_count": null,
   "id": "b55a6878",
   "metadata": {},
   "outputs": [],
   "source": []
  },
  {
   "cell_type": "markdown",
   "id": "d68ec394",
   "metadata": {},
   "source": [
    "Now try to save your plot using https://matplotlib.org/stable/api/_as_gen/matplotlib.pyplot.savefig.html"
   ]
  },
  {
   "cell_type": "code",
   "execution_count": null,
   "id": "08b0e31f",
   "metadata": {},
   "outputs": [],
   "source": []
  },
  {
   "cell_type": "markdown",
   "id": "bbc6db11",
   "metadata": {},
   "source": [
    "### Exercise 4: Scatter Plot with Two Distributions\n",
    "\n",
    "Remember to include axis labels, units, a legend and a sensible choice of colours/shades.  You are given the following data:"
   ]
  },
  {
   "cell_type": "code",
   "execution_count": null,
   "id": "52edecf4",
   "metadata": {},
   "outputs": [],
   "source": [
    "n_samples_2 = 200\n",
    "means_2, sigmas_2 = [2.0,2.0], [[0.2,0.0],[0.0,0.6]]\n",
    "means_3, sigmas_3 = [1.0,1.0], [[0.5,0.0],[0.0,0.1]]\n",
    "np.random.seed(42)\n",
    "data_2 = np.random.multivariate_normal(means_2, sigmas_2, n_samples_2)\n",
    "data_3 = np.random.multivariate_normal(means_3, sigmas_3, n_samples_2)"
   ]
  },
  {
   "cell_type": "markdown",
   "id": "79116ffc",
   "metadata": {},
   "source": [
    "For each dataset the first dimension is the displacement in the x direction and the second dimension is the displacement in the y direction, both in units of metres.  The first dataset, `data_2` is called 'Group A' and `data_3` is called 'Group B'.  Make a scatterplot containing both datasets in the same plot.  Fix the axis labels so that both axes run between -2 and +5.  Choose a different colour or shade for each dataset and include a legend.  Make sure you can see both datasets even if they are overlapping in places.  Save your figure as a pdf."
   ]
  },
  {
   "cell_type": "code",
   "execution_count": null,
   "id": "edbcf6db",
   "metadata": {},
   "outputs": [],
   "source": []
  }
 ],
 "metadata": {
  "kernelspec": {
   "display_name": "Python 3 (ipykernel)",
   "language": "python",
   "name": "python3"
  },
  "language_info": {
   "codemirror_mode": {
    "name": "ipython",
    "version": 3
   },
   "file_extension": ".py",
   "mimetype": "text/x-python",
   "name": "python",
   "nbconvert_exporter": "python",
   "pygments_lexer": "ipython3",
   "version": "3.9.15"
  }
 },
 "nbformat": 4,
 "nbformat_minor": 5
}
